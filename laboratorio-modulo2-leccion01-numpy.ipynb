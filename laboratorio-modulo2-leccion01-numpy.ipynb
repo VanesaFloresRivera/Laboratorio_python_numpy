{
 "cells": [
  {
   "cell_type": "markdown",
   "id": "6db588db",
   "metadata": {},
   "source": [
    "<div style=\"text-align: center;\">\n",
    "  <img src=\"https://github.com/Hack-io-Data/Imagenes/blob/main/01-LogosHackio/logo_naranja@4x.png?raw=true\" alt=\"esquema\" />\n",
    "</div>"
   ]
  },
  {
   "cell_type": "markdown",
   "id": "a19d4596",
   "metadata": {},
   "source": [
    "#### Ejercicio 1 - Crea un array de 1D con los números del 0 al 9."
   ]
  },
  {
   "cell_type": "code",
   "execution_count": 91,
   "id": "9d4e1d42",
   "metadata": {},
   "outputs": [],
   "source": [
    "import numpy as np"
   ]
  },
  {
   "cell_type": "code",
   "execution_count": 92,
   "id": "13cf021e",
   "metadata": {},
   "outputs": [
    {
     "name": "stdout",
     "output_type": "stream",
     "text": [
      "[0 1 2 3 4 5 6 7 8 9]\n"
     ]
    }
   ],
   "source": [
    "array_1D = np.arange(10)\n",
    "print(array_1D)\n"
   ]
  },
  {
   "cell_type": "markdown",
   "id": "f4a41f16",
   "metadata": {},
   "source": [
    "#### Ejercicio 2 - Convierte un array 1D en un array 2D con 2 filas y 5 columnas."
   ]
  },
  {
   "cell_type": "code",
   "execution_count": 93,
   "id": "3d7cef3c",
   "metadata": {},
   "outputs": [
    {
     "name": "stdout",
     "output_type": "stream",
     "text": [
      "[[0 1 2 3 4]\n",
      " [5 6 7 8 9]]\n"
     ]
    }
   ],
   "source": [
    "array_2D = array_1D.reshape(2,5)\n",
    "print(array_2D)"
   ]
  },
  {
   "cell_type": "markdown",
   "id": "86bb8999",
   "metadata": {},
   "source": [
    "#### Ejercicio 3 - Encuentra los índices de los elementos con valor distinto de 0 en el siguiente array: [0, 2, 0, 3, 0, 4, 0]."
   ]
  },
  {
   "cell_type": "code",
   "execution_count": 94,
   "id": "d1fcfca4",
   "metadata": {},
   "outputs": [
    {
     "name": "stdout",
     "output_type": "stream",
     "text": [
      "[0 2 0 3 0 4 0]\n",
      "Los indices de los elementos 0 son: [0, 2, 4, 6]\n"
     ]
    }
   ],
   "source": [
    "array_uni_3 = np.array([0, 2, 0, 3, 0, 4, 0])\n",
    "print(array_uni_3)\n",
    "lista_indices_0= []\n",
    "for indice, elemento in enumerate(array_uni_3):\n",
    "    if elemento ==0:\n",
    "        lista_indices_0.append(indice)\n",
    "    else:\n",
    "        continue\n",
    "print(f'Los indices de los elementos 0 son: {lista_indices_0}')\n"
   ]
  },
  {
   "cell_type": "markdown",
   "id": "1c548419",
   "metadata": {},
   "source": [
    "#### Ejercicio 4 - Crea un array 3x3 con valores aleatorios entre 0 y 1."
   ]
  },
  {
   "cell_type": "code",
   "execution_count": 95,
   "id": "e1d4f19f",
   "metadata": {},
   "outputs": [
    {
     "name": "stdout",
     "output_type": "stream",
     "text": [
      "[[0.24857964 0.67477567 0.01155702]\n",
      " [0.54717221 0.85979472 0.16599271]\n",
      " [0.21560696 0.93449665 0.30275095]]\n"
     ]
    }
   ],
   "source": [
    "array_bi_4 = np.random.rand(3,3)\n",
    "print(array_bi_4)"
   ]
  },
  {
   "cell_type": "markdown",
   "id": "aee82811",
   "metadata": {},
   "source": [
    "#### Ejercicio 5 - Crea un array de 10 números aleatorios y encuentra el valor máximo y mínimo."
   ]
  },
  {
   "cell_type": "code",
   "execution_count": 96,
   "id": "81fea76e",
   "metadata": {},
   "outputs": [
    {
     "name": "stdout",
     "output_type": "stream",
     "text": [
      "[[0.03 0.85 0.26 0.84 0.29]\n",
      " [0.52 0.74 0.22 0.69 0.33]]\n"
     ]
    }
   ],
   "source": [
    "array_bi_5 = np.round(np.random.rand(2,5), 2)\n",
    "print(array_bi_5)\n"
   ]
  },
  {
   "cell_type": "code",
   "execution_count": 97,
   "id": "54565620",
   "metadata": {},
   "outputs": [
    {
     "name": "stdout",
     "output_type": "stream",
     "text": [
      "El máximo del array es 0.85\n",
      "El mínimo del array es 0.03\n"
     ]
    }
   ],
   "source": [
    "#maximo\n",
    "print(f'El máximo del array es {np.max(array_bi_5)}')\n",
    "\n",
    "#mínimo\n",
    "print(f'El mínimo del array es {np.min(array_bi_5)}')"
   ]
  },
  {
   "cell_type": "markdown",
   "id": "6559375b",
   "metadata": {},
   "source": [
    "#### Ejercicio 6 - Crea un array de una dimensión e inviértelo. "
   ]
  },
  {
   "cell_type": "code",
   "execution_count": 98,
   "id": "31385db0",
   "metadata": {},
   "outputs": [
    {
     "name": "stdout",
     "output_type": "stream",
     "text": [
      "[[2 0 5 9 8]]\n"
     ]
    }
   ],
   "source": [
    "array_uni_invertir = np.random.randint(0,10, (1,5))\n",
    "print(array_uni_invertir)"
   ]
  },
  {
   "cell_type": "code",
   "execution_count": 99,
   "id": "59bb06e7",
   "metadata": {},
   "outputs": [
    {
     "name": "stdout",
     "output_type": "stream",
     "text": [
      "[[2]\n",
      " [0]\n",
      " [5]\n",
      " [9]\n",
      " [8]]\n"
     ]
    }
   ],
   "source": [
    "array_invertido = np.transpose(array_uni_invertir)\n",
    "print(array_invertido)"
   ]
  },
  {
   "cell_type": "markdown",
   "id": "4457f046",
   "metadata": {},
   "source": [
    "\n",
    "#### Ejercicio 7 - Genera un array tridimensional de dimensiones (2, 3, 4) con valores enteros del 1 al 24.\n",
    "\n",
    "- Selecciona el primer `15` del array.\n",
    "\n",
    "- Selecciona todos los elementos del primer array. \n",
    "\n",
    "- Selecciona la última fila del último array\n"
   ]
  },
  {
   "cell_type": "code",
   "execution_count": 100,
   "id": "3cab04c9",
   "metadata": {},
   "outputs": [
    {
     "name": "stdout",
     "output_type": "stream",
     "text": [
      "[[[23 15  4 24]\n",
      "  [15 10 24 13]\n",
      "  [ 2 13  2  0]]\n",
      "\n",
      " [[13  3 10 12]\n",
      "  [15 23 14  2]\n",
      "  [13  4  3 14]]]\n"
     ]
    }
   ],
   "source": [
    "array_tri_2 = np.random.randint(0,25, (2,3,4))\n",
    "print(array_tri_2)"
   ]
  },
  {
   "cell_type": "code",
   "execution_count": 108,
   "id": "204f9eb1",
   "metadata": {},
   "outputs": [
    {
     "name": "stdout",
     "output_type": "stream",
     "text": [
      "15\n"
     ]
    }
   ],
   "source": [
    "#Selecciona el primer 15 del array:\n",
    "\n",
    "print(array_tri_2[0, 0, 1])"
   ]
  },
  {
   "cell_type": "code",
   "execution_count": 102,
   "id": "62692dad",
   "metadata": {},
   "outputs": [
    {
     "name": "stdout",
     "output_type": "stream",
     "text": [
      "[[23 15  4 24]\n",
      " [15 10 24 13]\n",
      " [ 2 13  2  0]]\n"
     ]
    }
   ],
   "source": [
    "# Selecciona todos los elementos del primer array. \n",
    "\n",
    "print(array_tri_2[0,:,:])"
   ]
  },
  {
   "cell_type": "code",
   "execution_count": 103,
   "id": "24669cf1",
   "metadata": {},
   "outputs": [
    {
     "name": "stdout",
     "output_type": "stream",
     "text": [
      "[[13  4  3 14]]\n"
     ]
    }
   ],
   "source": [
    "# Selecciona la última fila del último array\n",
    "\n",
    "print(array_tri_2[1,2:,:])"
   ]
  },
  {
   "cell_type": "markdown",
   "id": "681b7e4e",
   "metadata": {},
   "source": [
    "\n",
    "#### Ejercicio 8 - Genera un array tridimensional de dimensiones (3, 2, 5) con valores enteros del 1 al 30.\n",
    "\n",
    "- Selecciona el subarray que contiene los dos primeros elementos de cada fila del primer array.\n",
    "\n",
    "- Selecciona el subarray que contiene todas las filas de los dos últimos arrays.\n"
   ]
  },
  {
   "cell_type": "code",
   "execution_count": 104,
   "id": "b008a9aa",
   "metadata": {},
   "outputs": [
    {
     "name": "stdout",
     "output_type": "stream",
     "text": [
      "[[[25  6 13 20  5]\n",
      "  [12 29 18  7 15]]\n",
      "\n",
      " [[18 23 16 21  7]\n",
      "  [ 9  5 28  5 10]]\n",
      "\n",
      " [[ 5  6  2 27  5]\n",
      "  [ 3 29  3 28 11]]]\n"
     ]
    }
   ],
   "source": [
    "array_tri_3 = np.random.randint(0,31, (3,2,5))\n",
    "print(array_tri_3)"
   ]
  },
  {
   "cell_type": "code",
   "execution_count": 105,
   "id": "4bbf12f4",
   "metadata": {},
   "outputs": [
    {
     "name": "stdout",
     "output_type": "stream",
     "text": [
      "[[[18 23 16 21  7]\n",
      "  [ 9  5 28  5 10]]\n",
      "\n",
      " [[ 5  6  2 27  5]\n",
      "  [ 3 29  3 28 11]]]\n"
     ]
    }
   ],
   "source": [
    "#Selecciona el subarray que contiene todas las filas de los dos últimos arrays.\n",
    "print(array_tri_3[1:,:,:])"
   ]
  },
  {
   "cell_type": "markdown",
   "id": "4fabd9d0",
   "metadata": {},
   "source": [
    "#### Ejercicio 9 - Genera un array tridimensional de dimensiones (4, 3, 2) con valores enteros del 1 al 24.\n",
    "\n",
    "- Cambia todos los elementos de la segunda fila del segundo array por `0`.\n",
    "\n",
    "- Cambia todos los valores del último array a `-1`.\n"
   ]
  },
  {
   "cell_type": "code",
   "execution_count": 106,
   "id": "0ef45b69",
   "metadata": {},
   "outputs": [
    {
     "name": "stdout",
     "output_type": "stream",
     "text": [
      "[[[13 23]\n",
      "  [18  6]\n",
      "  [ 0 12]]\n",
      "\n",
      " [[21  5]\n",
      "  [18  4]\n",
      "  [23 12]]\n",
      "\n",
      " [[24 18]\n",
      "  [12  3]\n",
      "  [ 7 18]]\n",
      "\n",
      " [[11  6]\n",
      "  [18 21]\n",
      "  [ 6  5]]]\n"
     ]
    }
   ],
   "source": [
    "array_tri_4 = np.random.randint(0,25, (4,3,2))\n",
    "print(array_tri_4)"
   ]
  },
  {
   "cell_type": "code",
   "execution_count": null,
   "id": "dd678f6f",
   "metadata": {},
   "outputs": [
    {
     "name": "stdout",
     "output_type": "stream",
     "text": [
      "[[[13 23]\n",
      "  [18  6]\n",
      "  [ 0 12]]\n",
      "\n",
      " [[21  5]\n",
      "  [18  4]\n",
      "  [23 12]]\n",
      "\n",
      " [[24 18]\n",
      "  [12  3]\n",
      "  [ 7 18]]\n",
      "\n",
      " [[-1 -1]\n",
      "  [-1 -1]\n",
      "  [-1 -1]]]\n"
     ]
    }
   ],
   "source": [
    "#- Cambia todos los valores del último array a `-1`.\n",
    "for indice_array,elemento_array in enumerate(array_tri_4):\n",
    "    #print(indice)\n",
    "    #print(elemento)\n",
    "    if indice_array ==3:\n",
    "        #print(elemento_array)\n",
    "        for indice_lista, elemento_lista in enumerate(elemento_array):\n",
    "            #print(elemento_lista)\n",
    "            for indice_columna, elemento_columna in enumerate(elemento_lista):\n",
    "                #print(elemento_columna)\n",
    "                array_tri_4[indice_array][indice_lista][indice_columna]= -1\n",
    "            \n",
    "print(array_tri_4)"
   ]
  },
  {
   "cell_type": "markdown",
   "id": "c60bc3bb",
   "metadata": {},
   "source": [
    "\n",
    "#### Ejercicio 10 - Genera un array tridimensional de dimensiones (2, 4, 3) con valores enteros del -10 al 13.\n",
    "\n",
    "- Selecciona todos los elementos mayores a `5`.\n",
    "\n",
    "- Reemplaza todos los elementos negativos por `0`.\n"
   ]
  },
  {
   "cell_type": "code",
   "execution_count": 113,
   "id": "28bf9232",
   "metadata": {},
   "outputs": [
    {
     "name": "stdout",
     "output_type": "stream",
     "text": [
      "[[[ 10  -3   2]\n",
      "  [  2  -1   6]\n",
      "  [  4   8  -4]\n",
      "  [ -4   2   3]]\n",
      "\n",
      " [[ -5   2   3]\n",
      "  [ -7 -10   2]\n",
      "  [ -2   1   3]\n",
      "  [  0   5   7]]]\n"
     ]
    }
   ],
   "source": [
    "array_tri_5 = np.random.randint(-10,14, (2,4,3))\n",
    "print(array_tri_5)\n"
   ]
  },
  {
   "cell_type": "code",
   "execution_count": null,
   "id": "9573a8bb",
   "metadata": {},
   "outputs": [
    {
     "name": "stdout",
     "output_type": "stream",
     "text": [
      "[10  6  8  7]\n"
     ]
    }
   ],
   "source": [
    "#Selecciona todos los elementos mayores a `5`.\n",
    "mascara = array_tri_5>5\n",
    "elementos_mayores_5 = array_tri_5[mascara]\n",
    "print(elementos_mayores_5)"
   ]
  },
  {
   "cell_type": "code",
   "execution_count": null,
   "id": "44ec7092",
   "metadata": {},
   "outputs": [
    {
     "name": "stdout",
     "output_type": "stream",
     "text": [
      "[[[10  0  2]\n",
      "  [ 2  0  6]\n",
      "  [ 4  8  0]\n",
      "  [ 0  2  3]]\n",
      "\n",
      " [[ 0  2  3]\n",
      "  [ 0  0  2]\n",
      "  [ 0  1  3]\n",
      "  [ 0  5  7]]]\n"
     ]
    }
   ],
   "source": [
    "#Reemplaza todos los elementos negativos por `0`.\n",
    "resultado_no_negativos = np.where((array_tri_5<0),0,array_tri_5)\n",
    "print(resultado_no_negativos)"
   ]
  },
  {
   "cell_type": "markdown",
   "id": "ab38a3be",
   "metadata": {},
   "source": [
    "#### Ejercicio 11 - Genera un array tridimensional de dimensiones (3, 3, 3) con valores enteros del 1 al 27.\n",
    "\n",
    "- Selecciona el subarray del segundo array que contenga solo las dos primeras columnas.\n",
    "\n",
    "- Selecciona todos los elementos del tercer array que sean mayores que `20`.\n"
   ]
  },
  {
   "cell_type": "code",
   "execution_count": 144,
   "id": "78c979cf",
   "metadata": {},
   "outputs": [
    {
     "name": "stdout",
     "output_type": "stream",
     "text": [
      "[[[25  3  3]\n",
      "  [ 3 10 22]\n",
      "  [ 1 20  5]]\n",
      "\n",
      " [[25 25  1]\n",
      "  [21 23 27]\n",
      "  [26 26 20]]\n",
      "\n",
      " [[22 10 12]\n",
      "  [ 6  5  6]\n",
      "  [25 20 27]]]\n"
     ]
    }
   ],
   "source": [
    "array_tri_6 = np.random.randint(1,28, (3,3,3))\n",
    "print(array_tri_6)"
   ]
  },
  {
   "cell_type": "code",
   "execution_count": 145,
   "id": "8a527b25",
   "metadata": {},
   "outputs": [
    {
     "name": "stdout",
     "output_type": "stream",
     "text": [
      "[[[25 25]\n",
      "  [21 23]\n",
      "  [26 26]]]\n"
     ]
    }
   ],
   "source": [
    "# Selecciona el subarray del segundo array que contenga solo las dos primeras columnas.\n",
    "\n",
    "print(array_tri_6[1:2,:,:2])"
   ]
  },
  {
   "cell_type": "code",
   "execution_count": 154,
   "id": "4ae4790e",
   "metadata": {},
   "outputs": [
    {
     "name": "stdout",
     "output_type": "stream",
     "text": [
      "El tercer array es:\n",
      "[[22 10 12]\n",
      " [ 6  5  6]\n",
      " [25 20 27]]\n",
      "Los elementos mayores de 20 son [22 25 27]\n"
     ]
    }
   ],
   "source": [
    "#Selecciona todos los elementos del tercer array que sean mayores que `20`.\n",
    "tercer_array = array_tri_6[2,:,:]\n",
    "print(f'El tercer array es:')\n",
    "print(tercer_array)\n",
    "condicion = tercer_array>20\n",
    "elementos_mayores_20 = tercer_array[condicion]\n",
    "print(f'Los elementos mayores de 20 son {elementos_mayores_20}')"
   ]
  },
  {
   "cell_type": "markdown",
   "id": "f1a00156",
   "metadata": {},
   "source": [
    "#### Ejercicio 12 - Crea un array de 10 números aleatorios y reemplaza los valores máximos y mínimos por 0."
   ]
  },
  {
   "cell_type": "code",
   "execution_count": 160,
   "id": "990fa526",
   "metadata": {},
   "outputs": [
    {
     "name": "stdout",
     "output_type": "stream",
     "text": [
      "[[0.2  0.49 0.08 0.59 0.96]\n",
      " [0.3  0.82 0.75 0.36 0.92]]\n",
      "El máximo es 0.96 y el mínimo es 0.08\n",
      "El array con 0 en el máximo y mínimo es:\n",
      "[[0.2  0.49 0.   0.59 0.  ]\n",
      " [0.3  0.82 0.75 0.36 0.92]]\n"
     ]
    }
   ],
   "source": [
    "array_bi_6 = np.round(np.random.rand(2,5), 2)\n",
    "print(array_bi_6)\n",
    "array_bi_6_corregido = np.where((array_bi_6==np.min(array_bi_6))|(array_bi_6==np.max(array_bi_6)),0,array_bi_6)\n",
    "print(f'El máximo es {np.max(array_bi_6)} y el mínimo es {np.min(array_bi_6)}')\n",
    "print(f'El array con 0 en el máximo y mínimo es:')\n",
    "print(array_bi_6_corregido)"
   ]
  },
  {
   "cell_type": "markdown",
   "id": "781fafd0",
   "metadata": {},
   "source": [
    "#### Ejercicio 13 - Genera un array de 15 números aleatorios enteros entre 1 y 100 y reordénalo en orden ascendente."
   ]
  },
  {
   "cell_type": "code",
   "execution_count": 164,
   "id": "caa4fd47",
   "metadata": {},
   "outputs": [
    {
     "name": "stdout",
     "output_type": "stream",
     "text": [
      "[[99 77 70 40 20 28 62 11 28 78 42 93 68 26 34]]\n"
     ]
    }
   ],
   "source": [
    "array_uni_4 = np.random.randint(1,101, (1,15))\n",
    "print(array_uni_4)"
   ]
  },
  {
   "cell_type": "code",
   "execution_count": 165,
   "id": "38f883ff",
   "metadata": {},
   "outputs": [
    {
     "name": "stdout",
     "output_type": "stream",
     "text": [
      "El array ordenado es:\n",
      "[[11 20 26 28 28 34 40 42 62 68 70 77 78 93 99]]\n"
     ]
    }
   ],
   "source": [
    "array_uni_4_ordenado = np.sort(array_uni_4)\n",
    "print(f'El array ordenado es:')\n",
    "print(array_uni_4_ordenado)"
   ]
  },
  {
   "cell_type": "markdown",
   "id": "45f10c3e",
   "metadata": {},
   "source": [
    "#### Ejercicio 14 - Calcula la suma de los elementos a lo largo de las filas y columnas en una matriz 4x4."
   ]
  },
  {
   "cell_type": "code",
   "execution_count": 166,
   "id": "90220788",
   "metadata": {},
   "outputs": [
    {
     "name": "stdout",
     "output_type": "stream",
     "text": [
      "[[ 90  75  45  14]\n",
      " [ 52  68 100  62]\n",
      " [ 86  43  31  47]\n",
      " [ 68  18  99   9]]\n"
     ]
    }
   ],
   "source": [
    "array_bi_7 = np.random.randint(1,101, (4,4))\n",
    "print(array_bi_7)"
   ]
  },
  {
   "cell_type": "code",
   "execution_count": 172,
   "id": "6e8f102e",
   "metadata": {},
   "outputs": [
    {
     "name": "stdout",
     "output_type": "stream",
     "text": [
      "La suma por filas es:\n",
      "[224 282 207 194]\n",
      "La suma por columnas es:\n",
      "[296 204 275 132]\n"
     ]
    }
   ],
   "source": [
    "#suma por filas\n",
    "print(f'La suma por filas es:')\n",
    "suma_filas = np.sum(array_bi_7, axis=1)\n",
    "print(suma_filas)\n",
    "\n",
    "#suma por columnas\n",
    "print(f'La suma por columnas es:')\n",
    "suma_columnas = np.sum(array_bi_7, axis=0)\n",
    "print(suma_columnas)\n"
   ]
  },
  {
   "cell_type": "markdown",
   "id": "69b9751a",
   "metadata": {},
   "source": [
    "#### Ejercicio 15 - Crea una matriz de 5x5 con valores en el borde igual a 1 y en el interior igual a 0."
   ]
  },
  {
   "cell_type": "code",
   "execution_count": 180,
   "id": "eca81323",
   "metadata": {},
   "outputs": [
    {
     "name": "stdout",
     "output_type": "stream",
     "text": [
      "La matriz inicial es\n",
      "[[25 30  7 89 43]\n",
      " [62 99 30 88 43]\n",
      " [31 23 16 87 25]\n",
      " [27 66 45 89 52]\n",
      " [94 67  2 75 21]]\n",
      "La matriz con los bordes con 1 el interior a 0 es\n",
      "[[1 0 0 0 0]\n",
      " [0 0 0 0 0]\n",
      " [0 0 0 0 0]\n",
      " [0 0 0 0 0]\n",
      " [0 0 0 0 1]]\n"
     ]
    }
   ],
   "source": [
    "array_bi_8 = np.random.randint(1,101, (5,5))\n",
    "print(f'La matriz inicial es')\n",
    "print(array_bi_8)\n",
    "\n",
    "for indice_fila,elemento_fila in enumerate(array_bi_8):\n",
    "    #print(indice_fila)\n",
    "    #print(elemento_fila)\n",
    "    for indice_columna, elemento_columna in enumerate(elemento_fila):\n",
    "        #print(indice_columna)\n",
    "        #print(elemento_columna)\n",
    "        if (indice_fila==0 and indice_columna==0) or (indice_fila==4 and indice_columna==4):\n",
    "            array_bi_8[indice_fila][indice_columna] = 1\n",
    "        else:\n",
    "            array_bi_8[indice_fila][indice_columna] = 0\n",
    "print('La matriz con los bordes con 1 el interior a 0 es')\n",
    "print(array_bi_8)\n",
    "\n"
   ]
  },
  {
   "cell_type": "markdown",
   "id": "1ea8068d",
   "metadata": {},
   "source": [
    "#### Ejercicio 16 - Calcula la media y la desviación estándar de un array de 10 números aleatorios."
   ]
  },
  {
   "cell_type": "code",
   "execution_count": 183,
   "id": "05dd579d",
   "metadata": {},
   "outputs": [
    {
     "name": "stdout",
     "output_type": "stream",
     "text": [
      "El array creado es:\n",
      "[[34 45 60 42 68 41 68 42 81 73 75]]\n",
      "La media del array es:\n",
      "57.18181818181818\n",
      "La desviación estandar es:\n",
      "15.91350588090153\n"
     ]
    }
   ],
   "source": [
    "array_uni_5= np.random.randint(1,101, (1,11))\n",
    "print(f'El array creado es:')\n",
    "print(array_uni_5)\n",
    "\n",
    "print('La media del array es:')\n",
    "print(np.mean(array_uni_5))\n",
    "\n",
    "print('La desviación estandar es:')\n",
    "print(np.std(array_uni_5))"
   ]
  },
  {
   "cell_type": "markdown",
   "id": "6add6669",
   "metadata": {},
   "source": [
    "#### Ejercicio 17 - Genera un array tridimensional de dimensiones (2, 3, 4) con valores enteros del 1 al 24.\n",
    "\n",
    "- Transpón el array para intercambiar los ejes de la forma (2, 3, 4) a (4, 3, 2).\n",
    "\n",
    "- Observa cómo cambian las posiciones de los elementos y sus índices después de la transposición. Explica en una celda de markdown que es lo que ha pasado. \n"
   ]
  },
  {
   "cell_type": "code",
   "execution_count": 192,
   "id": "ae98aca5",
   "metadata": {},
   "outputs": [
    {
     "name": "stdout",
     "output_type": "stream",
     "text": [
      "El array original es\n",
      "[[[12 24 22 20]\n",
      "  [11  8  6 12]\n",
      "  [11 10 16  1]]\n",
      "\n",
      " [[21 21  2 21]\n",
      "  [17 16 21 10]\n",
      "  [18  7  2 22]]]\n",
      "El array con los ejes intercambiados es\n",
      "[[[12 21]\n",
      "  [11 17]\n",
      "  [11 18]]\n",
      "\n",
      " [[24 21]\n",
      "  [ 8 16]\n",
      "  [10  7]]\n",
      "\n",
      " [[22  2]\n",
      "  [ 6 21]\n",
      "  [16  2]]\n",
      "\n",
      " [[20 21]\n",
      "  [12 10]\n",
      "  [ 1 22]]]\n"
     ]
    }
   ],
   "source": [
    "array_tri_7= np.random.randint(1,25, (2,3,4))\n",
    "print('El array original es')\n",
    "print(array_tri_7)\n",
    "\n",
    "print('El array con los ejes intercambiados es')\n",
    "array_tri_7_intercambiado = np.transpose(array_tri_7,(2,1,0))\n",
    "print(array_tri_7_intercambiado)"
   ]
  },
  {
   "cell_type": "markdown",
   "id": "41aa48ca",
   "metadata": {},
   "source": [
    "#### Explicación ejercicio 17\n",
    "Se ha intercambiando el número de columnas por el número de arrays. Antes teníamos 2 arrays, 4 filas y 4 columnas y ahora tenemos 4 arrays, 4 filas y 2 columnas:\n",
    "- La primera columna del primer array transpuesto es la primera columna del primer array original\n",
    "- La segunda columna del primera array transpuesto es la primera columna del segundo array original\n",
    "\n",
    "- La primera columna del segundo array transpuesto es la segunda columna del primer array original\n",
    "- La segunda columna del segundo array transpuesto es la segunda columna del segundo array original\n",
    "\n",
    "- La primera columna del tercer array transpuesto es la tercera columna del primer array original\n",
    "- La segunda columna del tercer array transpuesto es la tercera columna del segundo array original\n",
    "\n",
    "- La primera columna del cuarto array transpuesto es la cuarta columna del primer array original\n",
    "- La segunda columna del cuarto array transpuesto es la cuarta columna del segundo array original"
   ]
  },
  {
   "cell_type": "markdown",
   "id": "1e32b5e6",
   "metadata": {},
   "source": [
    "#### Ejercicio 18 - Genera un array tridimensional de dimensiones (3, 4, 2) con valores enteros del 1 al 24.\n",
    "\n",
    "- Transpón el array para intercambiar el primer y segundo eje, de manera que la nueva forma del array sea (4, 3, 2).\n"
   ]
  },
  {
   "cell_type": "code",
   "execution_count": 195,
   "id": "0146fdd6",
   "metadata": {},
   "outputs": [
    {
     "name": "stdout",
     "output_type": "stream",
     "text": [
      "El array original es\n",
      "[[[24 14]\n",
      "  [13  2]\n",
      "  [ 8 14]\n",
      "  [14 21]]\n",
      "\n",
      " [[ 7  4]\n",
      "  [ 1  8]\n",
      "  [ 6  5]\n",
      "  [ 3 21]]\n",
      "\n",
      " [[11  9]\n",
      "  [11  6]\n",
      "  [ 9  1]\n",
      "  [ 8  3]]]\n",
      "El array con los ejes intercambiados es\n",
      "[[[24 14]\n",
      "  [ 7  4]\n",
      "  [11  9]]\n",
      "\n",
      " [[13  2]\n",
      "  [ 1  8]\n",
      "  [11  6]]\n",
      "\n",
      " [[ 8 14]\n",
      "  [ 6  5]\n",
      "  [ 9  1]]\n",
      "\n",
      " [[14 21]\n",
      "  [ 3 21]\n",
      "  [ 8  3]]]\n"
     ]
    }
   ],
   "source": [
    "array_tri_8= np.random.randint(1,25, (3,4,2))\n",
    "print('El array original es')\n",
    "print(array_tri_8)\n",
    "\n",
    "print('El array con los ejes intercambiados es')\n",
    "array_tri_8_intercambiado = np.swapaxes(array_tri_8,0,1)\n",
    "print(array_tri_8_intercambiado)"
   ]
  },
  {
   "cell_type": "markdown",
   "id": "fcf92586",
   "metadata": {},
   "source": [
    "#### Ejercicio 19- Genera un array tridimensional de dimensiones (3, 2, 4) con valores enteros del 1 al 24.\n",
    "\n",
    "- Realiza una rotación completa de los ejes para convertir la forma original (3, 2, 4) en (4, 3, 2).\n"
   ]
  },
  {
   "cell_type": "code",
   "execution_count": 198,
   "id": "dd2c7f27",
   "metadata": {},
   "outputs": [
    {
     "name": "stdout",
     "output_type": "stream",
     "text": [
      "El array original es\n",
      "[[[16 13 13 22]\n",
      "  [ 3 10  6  3]]\n",
      "\n",
      " [[ 8  4  5 24]\n",
      "  [15 12  3  3]]\n",
      "\n",
      " [[18  6 12 18]\n",
      "  [13 14 16 10]]]\n",
      "El array con la rotación de los ejes es\n",
      "[[[16  3]\n",
      "  [ 8 15]\n",
      "  [18 13]]\n",
      "\n",
      " [[13 10]\n",
      "  [ 4 12]\n",
      "  [ 6 14]]\n",
      "\n",
      " [[13  6]\n",
      "  [ 5  3]\n",
      "  [12 16]]\n",
      "\n",
      " [[22  3]\n",
      "  [24  3]\n",
      "  [18 10]]]\n"
     ]
    }
   ],
   "source": [
    "array_tri_9= np.random.randint(1,25, (3,2,4))\n",
    "print('El array original es')\n",
    "print(array_tri_9)\n",
    "\n",
    "print('El array con la rotación de los ejes es')\n",
    "array_tri_9_intercambiado = np.transpose(array_tri_9,(2,0,1))\n",
    "print(array_tri_9_intercambiado)"
   ]
  },
  {
   "cell_type": "markdown",
   "id": "1795e11f",
   "metadata": {},
   "source": [
    "#### Ejercicio 20 - Manipulación de Arrays en 3D\n",
    "\n",
    "- Crea un array tridimensional con dimensiones (3, 4, 5) cuyos elementos sean números enteros aleatorios entre -10 y 10.\n",
    "\n",
    "- Crea un array vacío con la misma forma y dimensiones que el array creado anteriormente. Luego, reemplaza los valores de la matriz vacía basada en los valores del primer array bajo las siguientes condiciones:\n",
    "\n",
    "   - Si el valor es igual a la mediana, se reemplaza por `\"M\"`.\n",
    "\n",
    "   - Si el valor es mayor que la mediana, se reemplaza por `\"X\"`.\n",
    "\n",
    "   - Si el valor es menor que la mediana, se reemplaza por `\"Y\"`.\n",
    "\n",
    "   - Si el valor es igual al máximo, se reemplaza por `\"MAX\"`. #Sustituyo MAX por H porque solo me coge la primera vocal\n",
    "\n",
    "   - Si el valor es igual al mínimo, se reemplaza por `\"MIN\"`. #Sustituyo MIN por L porque solo me coge la primera vocal\n"
   ]
  },
  {
   "cell_type": "code",
   "execution_count": 257,
   "id": "d309b397",
   "metadata": {},
   "outputs": [
    {
     "name": "stdout",
     "output_type": "stream",
     "text": [
      "El array original es\n",
      "[[[-10  -4   2   9  -7]\n",
      "  [ -4  -2  -2  -9   8]\n",
      "  [  4  -9   4  -8   7]\n",
      "  [  3   4  -4  -9  -2]]\n",
      "\n",
      " [[ -3   5   6   4   0]\n",
      "  [ -2  -8  -4  -2 -10]\n",
      "  [  2   4   7  -9  -3]\n",
      "  [  5   3   5   3  -8]]\n",
      "\n",
      " [[ -1   1  -2 -10  -2]\n",
      "  [ -3   6   5   4   7]\n",
      "  [  5   4  -4   4   9]\n",
      "  [ -8   9  -8   4   9]]]\n",
      "La mediana es 0.0\n",
      "El máximo es 9\n",
      "El mínimo es -10\n",
      "La matriz con letras es\n",
      "[[['L' 'Y' 'X' 'H' 'Y']\n",
      "  ['Y' 'Y' 'Y' 'Y' 'X']\n",
      "  ['X' 'Y' 'X' 'Y' 'X']\n",
      "  ['X' 'X' 'Y' 'Y' 'Y']]\n",
      "\n",
      " [['Y' 'X' 'X' 'X' 'M']\n",
      "  ['Y' 'Y' 'Y' 'Y' 'L']\n",
      "  ['X' 'X' 'X' 'Y' 'Y']\n",
      "  ['X' 'X' 'X' 'X' 'Y']]\n",
      "\n",
      " [['Y' 'X' 'Y' 'L' 'Y']\n",
      "  ['Y' 'X' 'X' 'X' 'X']\n",
      "  ['X' 'X' 'Y' 'X' 'H']\n",
      "  ['Y' 'H' 'Y' 'X' 'H']]]\n"
     ]
    }
   ],
   "source": [
    "array_tri_10= np.random.randint(-10,10, (3,4,5))\n",
    "print('El array original es')\n",
    "print(array_tri_10)\n",
    "\n",
    "array_tri_10_mediana=round(np.median(array_tri_10),0)\n",
    "print(f'La mediana es {array_tri_10_mediana}')\n",
    "\n",
    "array_tri_10_max = np.max(array_tri_10)\n",
    "print(f'El máximo es {array_tri_10_max}')\n",
    "\n",
    "array_tri_10_min = np.min(array_tri_10)\n",
    "print(f'El mínimo es {array_tri_10_min}')\n",
    "\n",
    "array_tri_10_vacio = np.empty((3,4,5), dtype=str)\n",
    "#print(array_tri_10_vacio)\n",
    "\n",
    "for indice_array,elemento_array in enumerate(array_tri_10):\n",
    "    for indice_fila, elemento_fila in enumerate(elemento_array):\n",
    "        for indice_columna, elemento_columna in enumerate(elemento_fila):\n",
    "            #print(array_tri_10[indice_array][indice_fila][indice_columna])\n",
    "            if array_tri_10[indice_array][indice_fila][indice_columna] == array_tri_10_mediana:\n",
    "                array_tri_10_vacio[indice_array][indice_fila][indice_columna] = 'M'\n",
    "            elif array_tri_10[indice_array][indice_fila][indice_columna] == array_tri_10_max:\n",
    "                array_tri_10_vacio[indice_array][indice_fila][indice_columna] = 'H'\n",
    "            elif array_tri_10[indice_array][indice_fila][indice_columna] == array_tri_10_min:\n",
    "                array_tri_10_vacio[indice_array][indice_fila][indice_columna] = 'L'\n",
    "            elif array_tri_10[indice_array][indice_fila][indice_columna] >array_tri_10_mediana:\n",
    "                array_tri_10_vacio[indice_array][indice_fila][indice_columna] = 'X'                    \n",
    "            elif array_tri_10[indice_array][indice_fila][indice_columna] <array_tri_10_mediana:\n",
    "                array_tri_10_vacio[indice_array][indice_fila][indice_columna] = 'Y'\n",
    "print(f'La matriz con letras es')             \n",
    "print(array_tri_10_vacio)"
   ]
  },
  {
   "cell_type": "markdown",
   "id": "83794704",
   "metadata": {},
   "source": [
    "#### Ejercicio 21 - Verificación de Filas y Columnas Iguales\n",
    "\n",
    "Crea un array bidimensional de dimensiones 4x4, escribe un código para determinar si alguna fila es exactamente igual a alguna columna.\n",
    "\n",
    "**Reglas:**\n",
    "\n",
    "- No puedes usar funciones predefinidas de NumPy para comparar filas y columnas (`np.array_equal`, etc.).\n",
    "\n",
    "- Debes resolverlo con estructuras básicas de Python (bucles, condicionales, etc.).\n",
    "\n",
    "- Debes revisar si hay al menos una fila que coincida exactamente con alguna columna.\n",
    "\n",
    "**Pistas**:\n",
    "\n",
    "- Puedes recorrer cada fila y cada columna de la matriz usando bucles.\n",
    "\n",
    "- Para comparar una fila con una columna, puedes hacerlo elemento por elemento."
   ]
  },
  {
   "cell_type": "code",
   "execution_count": 310,
   "id": "afd51c60",
   "metadata": {},
   "outputs": [
    {
     "name": "stdout",
     "output_type": "stream",
     "text": [
      "El array original es:\n",
      "[[1 1 1 1]\n",
      " [1 1 1 0]\n",
      " [1 1 0 1]\n",
      " [0 1 1 0]]\n"
     ]
    }
   ],
   "source": [
    "array_bi_9= np.random.randint(0,2, (4,4))\n",
    "print(f'El array original es:')\n",
    "print(array_bi_9)"
   ]
  },
  {
   "cell_type": "code",
   "execution_count": 311,
   "id": "1f67a7ba",
   "metadata": {},
   "outputs": [
    {
     "name": "stdout",
     "output_type": "stream",
     "text": [
      "La fila con indice 0 no coincide con la columna con índice 0\n",
      "La fila con indice 0 ES IGUAL a la columna con índice 1\n",
      "La fila con indice 0 no coincide con la columna con índice 2\n",
      "La fila con indice 0 no coincide con la columna con índice 3\n",
      "La fila con indice 1 ES IGUAL a la columna con índice 0\n",
      "La fila con indice 1 no coincide con la columna con índice 1\n",
      "La fila con indice 1 no coincide con la columna con índice 2\n",
      "La fila con indice 1 no coincide con la columna con índice 3\n",
      "La fila con indice 2 no coincide con la columna con índice 0\n",
      "La fila con indice 2 no coincide con la columna con índice 1\n",
      "La fila con indice 2 ES IGUAL a la columna con índice 2\n",
      "La fila con indice 2 no coincide con la columna con índice 3\n",
      "La fila con indice 3 no coincide con la columna con índice 0\n",
      "La fila con indice 3 no coincide con la columna con índice 1\n",
      "La fila con indice 3 no coincide con la columna con índice 2\n",
      "La fila con indice 3 no coincide con la columna con índice 3\n"
     ]
    }
   ],
   "source": [
    "for indice_fila in range (0,4):\n",
    "    #print(array_bi_9[indice_fila])\n",
    "    fila = tuple(array_bi_9[indice_fila])\n",
    "    for indice_columna in range (0,4):\n",
    "        #print(array_bi_9[:,indice_columna])\n",
    "        columna_en_fila = tuple(array_bi_9[:,indice_columna])\n",
    "        #print(fila)\n",
    "        #print(columna_en_fila)\n",
    "        #print(fila == columna_en_fila)\n",
    "        if fila == columna_en_fila:\n",
    "            print(f'La fila con indice {indice_fila} ES IGUAL a la columna con índice {indice_columna}')\n",
    "        else:\n",
    "            print(f'La fila con indice {indice_fila} no coincide con la columna con índice {indice_columna}')\n",
    "\n"
   ]
  }
 ],
 "metadata": {
  "kernelspec": {
   "display_name": "Python 3",
   "language": "python",
   "name": "python3"
  },
  "language_info": {
   "codemirror_mode": {
    "name": "ipython",
    "version": 3
   },
   "file_extension": ".py",
   "mimetype": "text/x-python",
   "name": "python",
   "nbconvert_exporter": "python",
   "pygments_lexer": "ipython3",
   "version": "3.12.5"
  }
 },
 "nbformat": 4,
 "nbformat_minor": 5
}
